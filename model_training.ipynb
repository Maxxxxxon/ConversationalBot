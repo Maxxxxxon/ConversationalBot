{
 "metadata": {
  "language_info": {
   "codemirror_mode": {
    "name": "ipython",
    "version": 3
   },
   "file_extension": ".py",
   "mimetype": "text/x-python",
   "name": "python",
   "nbconvert_exporter": "python",
   "pygments_lexer": "ipython3",
   "version": "3.8.5-final"
  },
  "orig_nbformat": 2,
  "kernelspec": {
   "name": "python3",
   "display_name": "Python 3",
   "language": "python"
  }
 },
 "nbformat": 4,
 "nbformat_minor": 2,
 "cells": [
  {
   "cell_type": "code",
   "execution_count": 1,
   "metadata": {},
   "outputs": [],
   "source": [
    "from transformers import MT5ForConditionalGeneration as MT5Model\n",
    "from transformers import AdamW\n",
    "from transformers import MT5Tokenizer\n",
    "import pickle"
   ]
  },
  {
   "cell_type": "code",
   "execution_count": 2,
   "metadata": {},
   "outputs": [
    {
     "output_type": "stream",
     "name": "stdout",
     "text": [
      "Number of parameters:  300176768\n"
     ]
    }
   ],
   "source": [
    "model = MT5Model.from_pretrained(\"google/mt5-small\")\n",
    "model.train()\n",
    "\n",
    "tokenizer = MT5Tokenizer.from_pretrained('google/mt5-small')\n",
    "optimizer = AdamW(model.parameters(), lr=0.00001)\n",
    "\n",
    "print(\"Number of parameters: \", model.num_parameters())"
   ]
  },
  {
   "cell_type": "code",
   "execution_count": 5,
   "metadata": {},
   "outputs": [],
   "source": [
    "with open(\"rusDialogs/prepared_dialogueCR.pickle\", 'rb') as file:\n",
    "    dialogues = pickle.load(file)\n",
    "\n",
    "## even stands for even number of repliques in one dialog, so each U1 replique has an answer\n",
    "dialogues_even = list(map(lambda x: x[:-1] if len(x) % 2 == 1 else x, dialogues))\n",
    "dialogues_even_flatten = [replique for dialogue in dialogues for replique in dialogue]\n",
    "repliquesU1 = list(filter(lambda x: x.startswith(\"USER1:\"), dialogues_even_flatten))\n",
    "repliquesU2 = list(filter(lambda x: x.startswith(\"USER2:\"), dialogues_even_flatten))"
   ]
  },
  {
   "cell_type": "code",
   "execution_count": 6,
   "metadata": {},
   "outputs": [],
   "source": [
    "# encoding = tokenizer(text_batch, return_tensors='pt', padding=True, truncation=True)\n",
    "# input_ids = encoding['input_ids']\n",
    "# attention_mask = encoding['attention_mask']"
   ]
  },
  {
   "cell_type": "code",
   "execution_count": 7,
   "metadata": {},
   "outputs": [],
   "source": [
    "batch = tokenizer.prepare_seq2seq_batch(src_texts=repliquesU1, tgt_texts=repliquesU2, return_tensors=\"pt\", padding=True)"
   ]
  },
  {
   "cell_type": "code",
   "execution_count": 8,
   "metadata": {},
   "outputs": [],
   "source": [
    "outputs = model(input_ids=batch.input_ids[:3], decoder_input_ids=batch.labels[:3])"
   ]
  },
  {
   "cell_type": "code",
   "execution_count": 1,
   "metadata": {},
   "outputs": [
    {
     "output_type": "error",
     "ename": "NameError",
     "evalue": "name 'outputs' is not defined",
     "traceback": [
      "\u001b[0;31m---------------------------------------------------------------------------\u001b[0m",
      "\u001b[0;31mNameError\u001b[0m                                 Traceback (most recent call last)",
      "\u001b[0;32m<ipython-input-1-b7d1d580ab46>\u001b[0m in \u001b[0;36m<module>\u001b[0;34m\u001b[0m\n\u001b[0;32m----> 1\u001b[0;31m \u001b[0moutputs\u001b[0m\u001b[0;34m.\u001b[0m\u001b[0mlast_hidden_state\u001b[0m\u001b[0;34m.\u001b[0m\u001b[0mshape\u001b[0m\u001b[0;34m\u001b[0m\u001b[0;34m\u001b[0m\u001b[0m\n\u001b[0m",
      "\u001b[0;31mNameError\u001b[0m: name 'outputs' is not defined"
     ]
    }
   ],
   "source": [
    "outputs.last_hidden_state.shape"
   ]
  },
  {
   "cell_type": "code",
   "execution_count": null,
   "metadata": {},
   "outputs": [],
   "source": [
    "model.save_pretrained('models/mt5small/')"
   ]
  }
 ]
}