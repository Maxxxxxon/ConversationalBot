{
 "metadata": {
  "language_info": {
   "codemirror_mode": {
    "name": "ipython",
    "version": 3
   },
   "file_extension": ".py",
   "mimetype": "text/x-python",
   "name": "python",
   "nbconvert_exporter": "python",
   "pygments_lexer": "ipython3",
   "version": "3.8.5-final"
  },
  "orig_nbformat": 2,
  "kernelspec": {
   "name": "python3",
   "display_name": "Python 3",
   "language": "python"
  }
 },
 "nbformat": 4,
 "nbformat_minor": 2,
 "cells": [
  {
   "cell_type": "code",
   "execution_count": 1,
   "metadata": {},
   "outputs": [],
   "source": [
    "from transformers import MT5ForConditionalGeneration \n",
    "from transformers import AdamW\n",
    "from transformers import MT5Tokenizer\n",
    "import pickle"
   ]
  },
  {
   "cell_type": "code",
   "execution_count": 2,
   "metadata": {},
   "outputs": [
    {
     "output_type": "stream",
     "name": "stdout",
     "text": [
      "Number of parameters:  300176768\n"
     ]
    }
   ],
   "source": [
    "model = MT5ForConditionalGeneration.from_pretrained(\"google/mt5-small\")\n",
    "tokenizer = MT5Tokenizer.from_pretrained('google/mt5-small')"
   ]
  },
  {
   "cell_type": "code",
   "execution_count": 3,
   "metadata": {},
   "outputs": [],
   "source": [
    "model = MT5Model.from_pretrained('models/mt5small')"
   ]
  },
  {
   "cell_type": "code",
   "execution_count": 4,
   "metadata": {},
   "outputs": [],
   "source": [
    "replique1 = \"Привет! Меня зовут Реплика Один! А тебя?\""
   ]
  },
  {
   "cell_type": "code",
   "execution_count": 8,
   "metadata": {},
   "outputs": [],
   "source": [
    "model_input = tokenizer.encode(replique1, add_special_tokens=False, return_tensors=\"pt\")\n",
    "result_ids = model.generate(model_input, max_length=250, do_sample=True, top_p=0.95, top_k=60)\n",
    "result_tokens = tokenizer.convert_ids_to_tokens(result_ids[0])\n",
    "result_string = tokenizer.convert_tokens_to_string(result_tokens)"
   ]
  },
  {
   "cell_type": "code",
   "execution_count": 9,
   "metadata": {},
   "outputs": [
    {
     "output_type": "execute_result",
     "data": {
      "text/plain": [
       "'<pad> <extra_id_0>компресс <extra_id_31> <extra_id_31> <extra_id_27> <extra_id_31> <extra_id_31> <extra_id_31> <extra_id_27> <extra_id_27> <extra_id_31> <extra_id_31> <extra_id_31> <extra_id_31> <extra_id_31> <extra_id_31> <extra_id_27> <extra_id_31> <extra_id_31> <extra_id_31> <extra_id_31> <extra_id_27> <extra_id_27> <extra_id_31> <extra_id_31> <extra_id_31> <extra_id_27> <extra_id_31> <extra_id_27> <extra_id_27> <extra_id_31> <extra_id_27> <extra_id_31> <extra_id_27> <extra_id_31> <extra_id_27> <extra_id_31> <extra_id_27> <extra_id_31> <extra_id_31> <extra_id_27> <extra_id_27> <extra_id_27> <extra_id_31> <extra_id_27> <extra_id_27> <extra_id_31> <extra_id_27> <extra_id_27> <extra_id_27> <extra_id_27> <extra_id_31> <extra_id_31> <extra_id_31> <extra_id_31> <extra_id_31> <extra_id_31> <extra_id_27> <extra_id_31> <extra_id_31> <extra_id_31> <extra_id_27> <extra_id_27> <extra_id_27> <extra_id_31> <extra_id_31> <extra_id_31> <extra_id_31> <extra_id_31> <extra_id_31> <extra_id_31> <extra_id_27> <extra_id_31> <extra_id_27> <extra_id_31> <extra_id_31> <extra_id_31> <extra_id_31> <extra_id_31> <extra_id_31> <extra_id_27> <extra_id_31> <extra_id_31> <extra_id_31> <extra_id_27> <extra_id_27> <extra_id_31> <extra_id_27> <extra_id_31> <extra_id_31> <extra_id_31> <extra_id_27> <extra_id_31> <extra_id_27> <extra_id_31> <extra_id_27> <extra_id_31> <extra_id_31> <extra_id_31> <extra_id_31> <extra_id_31> <extra_id_31> <extra_id_31> <extra_id_27> <extra_id_31> <extra_id_27> <extra_id_27> <extra_id_27> <extra_id_31> <extra_id_31> <extra_id_31> <extra_id_27> <extra_id_27> <extra_id_27>ват</s>'"
      ]
     },
     "metadata": {},
     "execution_count": 9
    }
   ],
   "source": [
    "result_string"
   ]
  }
 ]
}