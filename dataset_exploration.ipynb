{
 "metadata": {
  "language_info": {
   "codemirror_mode": {
    "name": "ipython",
    "version": 3
   },
   "file_extension": ".py",
   "mimetype": "text/x-python",
   "name": "python",
   "nbconvert_exporter": "python",
   "pygments_lexer": "ipython3",
   "version": "3.9.1-final"
  },
  "orig_nbformat": 2,
  "kernelspec": {
   "name": "python3",
   "display_name": "Python 3"
  }
 },
 "nbformat": 4,
 "nbformat_minor": 2,
 "cells": [
  {
   "cell_type": "code",
   "execution_count": 1,
   "metadata": {},
   "outputs": [],
   "source": [
    "import pandas as pd\n",
    "import regex as re\n",
    "import numpy as np"
   ]
  },
  {
   "cell_type": "code",
   "execution_count": 2,
   "metadata": {},
   "outputs": [],
   "source": [
    "dialogues = pd.read_csv(\"rusDialogs/dialogues.tsv\", sep=\"\\t\")"
   ]
  },
  {
   "cell_type": "code",
   "execution_count": 3,
   "metadata": {},
   "outputs": [],
   "source": [
    "def preprocessing(dialogue):\n",
    "    prepared_dialogue = re.sub(\"<[^>]*>\", \" \", dialogue)\n",
    "    prepared_dialogue = re.sub(\"\\s+\", \" \", prepared_dialogue)\n",
    "    prepared_dialogue = prepared_dialogue.split(\"Пользователь\")[1:]\n",
    "    prepared_dialogue = list(map(lambda x: x.strip(), prepared_dialogue))\n",
    "    if (prepared_dialogue[0][0] == \"2\"):\n",
    "        prepared_dialogue = list(map(lambda x: \"USER\" + str(3 - int(x[0])) + x[1:], prepared_dialogue))\n",
    "    else:\n",
    "        prepared_dialogue = list(map(lambda x: \"USER\" + x, prepared_dialogue))\n",
    "    return prepared_dialogue"
   ]
  },
  {
   "cell_type": "code",
   "execution_count": 4,
   "metadata": {},
   "outputs": [],
   "source": [
    "def concatenate_repliques(dialogue):\n",
    "    prev = -1\n",
    "    for i in range(len(dialogue)):\n",
    "        if (dialogue[i].startswith(\"USER1: \")):\n",
    "            if (prev == 1):\n",
    "                dialogue[i] = dialogue[i - 1] + \" <NM>\" + dialogue[i][6:]\n",
    "                dialogue[i - 1] = \"\"\n",
    "            prev = 1\n",
    "        elif (dialogue[i].startswith(\"USER2: \")):\n",
    "            if (prev == 2):\n",
    "                dialogue[i] = dialogue[i - 1] + \" <NM>\" + dialogue[i][6:]\n",
    "                dialogue[i - 1] = \"\"\n",
    "            prev = 2\n",
    "        else:\n",
    "            print(\"FATAL ERROR\")\n",
    "            print(dialogue[i])\n",
    "            return\n",
    "    dialogue = list(filter(lambda x : x != \"\", dialogue))\n",
    "    return dialogue"
   ]
  },
  {
   "cell_type": "code",
   "execution_count": 5,
   "metadata": {},
   "outputs": [],
   "source": [
    "dialogues[\"Prepared_dialogue\"] = dialogues.dialogue.apply(preprocessing)"
   ]
  },
  {
   "cell_type": "code",
   "execution_count": 6,
   "metadata": {
    "tags": []
   },
   "outputs": [],
   "source": [
    "dialogues[\"Prepared_dialogueCR\"] = dialogues.Prepared_dialogue.apply(concatenate_repliques)"
   ]
  },
  {
   "cell_type": "code",
   "execution_count": 7,
   "metadata": {},
   "outputs": [],
   "source": [
    "import pickle\n",
    "with open(\"rusDialogs/prepared_dialogue.pickle\", \"wb\") as file:\n",
    "    pickle.dump(list(dialogues.Prepared_dialogue), file)"
   ]
  },
  {
   "cell_type": "code",
   "execution_count": 8,
   "metadata": {},
   "outputs": [],
   "source": [
    "with open(\"rusDialogs/prepared_dialogueCR.pickle\", \"wb\") as file:\n",
    "    pickle.dump(list(dialogues.Prepared_dialogueCR), file)"
   ]
  }
 ]
}